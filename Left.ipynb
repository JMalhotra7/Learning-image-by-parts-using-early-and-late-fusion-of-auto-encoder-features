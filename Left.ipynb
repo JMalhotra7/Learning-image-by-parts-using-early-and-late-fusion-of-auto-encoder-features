{
 "cells": [
  {
   "cell_type": "code",
   "execution_count": 1,
   "metadata": {},
   "outputs": [
    {
     "name": "stderr",
     "output_type": "stream",
     "text": [
      "Using TensorFlow backend.\n"
     ]
    }
   ],
   "source": [
    "### Libraries\n",
    "from __future__ import print_function\n",
    "import keras\n",
    "from keras.datasets import mnist\n",
    "from keras.models import Sequential\n",
    "from keras.layers import Dense, Dropout, Flatten\n",
    "from keras.callbacks import ModelCheckpoint\n",
    "from keras.models import model_from_json\n",
    "from keras.layers import Input, Dense, Conv2D, MaxPooling2D, UpSampling2D, Flatten, Reshape\n",
    "from keras.models import Model\n",
    "from keras import backend as K\n",
    "import numpy as np"
   ]
  },
  {
   "cell_type": "code",
   "execution_count": 2,
   "metadata": {},
   "outputs": [
    {
     "name": "stdout",
     "output_type": "stream",
     "text": [
      "Training data shape:  (60000, 28, 28)\n",
      "Testing data shape :  (10000, 28, 28)\n"
     ]
    }
   ],
   "source": [
    "### Loading Data\n",
    "(x_train, y_train), (x_test, y_test) = mnist.load_data()\n",
    "\n",
    "x_train = np.load(r'left_x_train.npy')\n",
    "x_test = np.load(r'left_x_test.npy')\n",
    "\n",
    "x_train = x_train.astype('float32') / 255.\n",
    "x_test = x_test.astype('float32') / 255.\n",
    "\n",
    "print('Training data shape: ', x_train.shape)\n",
    "print('Testing data shape : ', x_test.shape)"
   ]
  },
  {
   "cell_type": "code",
   "execution_count": 3,
   "metadata": {},
   "outputs": [
    {
     "name": "stdout",
     "output_type": "stream",
     "text": [
      "WARNING:tensorflow:From c:\\users\\jatin\\appdata\\local\\programs\\python\\python36\\lib\\site-packages\\tensorflow\\python\\framework\\op_def_library.py:263: colocate_with (from tensorflow.python.framework.ops) is deprecated and will be removed in a future version.\n",
      "Instructions for updating:\n",
      "Colocations handled automatically by placer.\n"
     ]
    }
   ],
   "source": [
    "input_img = Input(shape=(28, 28, 1))  # adapt this if using `channels_first` image data format\n",
    "\n",
    "x = Conv2D(16, (3, 3), activation='relu', padding='same')(input_img)\n",
    "x = MaxPooling2D((2, 2), padding='same')(x)\n",
    "x = Conv2D(8, (3, 3), activation='relu', padding='same')(x)\n",
    "x = MaxPooling2D((2, 2), padding='same')(x)\n",
    "x = Conv2D(8, (3, 3), activation='relu', padding='same')(x)\n",
    "encoded = MaxPooling2D((2, 2), padding='same')(x)\n",
    "\n",
    "# at this point the representation is (4, 4, 8) i.e. 128-dimensional\n",
    "\n",
    "x = Conv2D(8, (3, 3), activation='relu', padding='same')(encoded)\n",
    "x = UpSampling2D((2, 2))(x)\n",
    "x = Conv2D(8, (3, 3), activation='relu', padding='same')(x)\n",
    "x = UpSampling2D((2, 2))(x)\n",
    "x = Conv2D(16, (3, 3), activation='relu')(x)\n",
    "x = UpSampling2D((2, 2))(x)\n",
    "decoded = Conv2D(1, (3, 3), activation='sigmoid', padding='same')(x)\n",
    "\n",
    "autoencoder = Model(input_img, decoded)\n",
    "autoencoder.compile(optimizer='adadelta', loss='binary_crossentropy')"
   ]
  },
  {
   "cell_type": "code",
   "execution_count": 4,
   "metadata": {},
   "outputs": [
    {
     "name": "stdout",
     "output_type": "stream",
     "text": [
      "WARNING:tensorflow:From c:\\users\\jatin\\appdata\\local\\programs\\python\\python36\\lib\\site-packages\\tensorflow\\python\\ops\\math_ops.py:3066: to_int32 (from tensorflow.python.ops.math_ops) is deprecated and will be removed in a future version.\n",
      "Instructions for updating:\n",
      "Use tf.cast instead.\n",
      "Train on 60000 samples, validate on 10000 samples\n",
      "Epoch 1/50\n",
      "60000/60000 [==============================] - 19s 317us/step - loss: 0.1062 - val_loss: 0.0707\n",
      "Epoch 2/50\n",
      "60000/60000 [==============================] - 17s 283us/step - loss: 0.0662 - val_loss: 0.0616\n",
      "Epoch 3/50\n",
      "60000/60000 [==============================] - 17s 283us/step - loss: 0.0591 - val_loss: 0.0553\n",
      "Epoch 4/50\n",
      "60000/60000 [==============================] - 17s 284us/step - loss: 0.0549 - val_loss: 0.0520\n",
      "Epoch 5/50\n",
      "60000/60000 [==============================] - 17s 284us/step - loss: 0.0520 - val_loss: 0.0515\n",
      "Epoch 6/50\n",
      "60000/60000 [==============================] - 17s 284us/step - loss: 0.0503 - val_loss: 0.0488\n",
      "Epoch 7/50\n",
      "60000/60000 [==============================] - 17s 284us/step - loss: 0.0490 - val_loss: 0.0481\n",
      "Epoch 8/50\n",
      "60000/60000 [==============================] - 17s 288us/step - loss: 0.0478 - val_loss: 0.0482\n",
      "Epoch 9/50\n",
      "60000/60000 [==============================] - 17s 290us/step - loss: 0.0470 - val_loss: 0.0467\n",
      "Epoch 10/50\n",
      "60000/60000 [==============================] - 17s 286us/step - loss: 0.0464 - val_loss: 0.0450\n",
      "Epoch 11/50\n",
      "60000/60000 [==============================] - 18s 298us/step - loss: 0.0456 - val_loss: 0.0471\n",
      "Epoch 12/50\n",
      "60000/60000 [==============================] - 18s 294us/step - loss: 0.0453 - val_loss: 0.0453\n",
      "Epoch 13/50\n",
      "60000/60000 [==============================] - 18s 293us/step - loss: 0.0447 - val_loss: 0.0435\n",
      "Epoch 14/50\n",
      "60000/60000 [==============================] - 19s 311us/step - loss: 0.0442 - val_loss: 0.0457\n",
      "Epoch 15/50\n",
      "60000/60000 [==============================] - 18s 293us/step - loss: 0.0438 - val_loss: 0.0437\n",
      "Epoch 16/50\n",
      "60000/60000 [==============================] - 18s 295us/step - loss: 0.0435 - val_loss: 0.0422\n",
      "Epoch 17/50\n",
      "60000/60000 [==============================] - 17s 289us/step - loss: 0.0432 - val_loss: 0.0432\n",
      "Epoch 18/50\n",
      "60000/60000 [==============================] - 17s 289us/step - loss: 0.0429 - val_loss: 0.0418\n",
      "Epoch 19/50\n",
      "60000/60000 [==============================] - 17s 290us/step - loss: 0.0426 - val_loss: 0.0421\n",
      "Epoch 20/50\n",
      "60000/60000 [==============================] - 18s 294us/step - loss: 0.0422 - val_loss: 0.0408\n",
      "Epoch 21/50\n",
      "60000/60000 [==============================] - 18s 293us/step - loss: 0.0419 - val_loss: 0.0416\n",
      "Epoch 22/50\n",
      "60000/60000 [==============================] - 17s 290us/step - loss: 0.0417 - val_loss: 0.0414\n",
      "Epoch 23/50\n",
      "60000/60000 [==============================] - 17s 290us/step - loss: 0.0415 - val_loss: 0.0406\n",
      "Epoch 24/50\n",
      "60000/60000 [==============================] - 18s 295us/step - loss: 0.0414 - val_loss: 0.0406\n",
      "Epoch 25/50\n",
      "60000/60000 [==============================] - 18s 298us/step - loss: 0.0411 - val_loss: 0.0414\n",
      "Epoch 26/50\n",
      "60000/60000 [==============================] - 18s 297us/step - loss: 0.0409 - val_loss: 0.0401\n",
      "Epoch 27/50\n",
      "60000/60000 [==============================] - 17s 285us/step - loss: 0.0408 - val_loss: 0.0399\n",
      "Epoch 28/50\n",
      "60000/60000 [==============================] - 20s 331us/step - loss: 0.0408 - val_loss: 0.0400\n",
      "Epoch 29/50\n",
      "60000/60000 [==============================] - 18s 292us/step - loss: 0.0406 - val_loss: 0.0404\n",
      "Epoch 30/50\n",
      "60000/60000 [==============================] - 17s 290us/step - loss: 0.0404 - val_loss: 0.0393\n",
      "Epoch 31/50\n",
      "60000/60000 [==============================] - 17s 290us/step - loss: 0.0402 - val_loss: 0.0390\n",
      "Epoch 32/50\n",
      "60000/60000 [==============================] - 17s 290us/step - loss: 0.0401 - val_loss: 0.0398\n",
      "Epoch 33/50\n",
      "60000/60000 [==============================] - 18s 292us/step - loss: 0.0400 - val_loss: 0.0396\n",
      "Epoch 34/50\n",
      "60000/60000 [==============================] - 18s 292us/step - loss: 0.0398 - val_loss: 0.0395\n",
      "Epoch 35/50\n",
      "60000/60000 [==============================] - 18s 293us/step - loss: 0.0398 - val_loss: 0.0392\n",
      "Epoch 36/50\n",
      "60000/60000 [==============================] - 18s 292us/step - loss: 0.0397 - val_loss: 0.0402\n",
      "Epoch 37/50\n",
      "60000/60000 [==============================] - 18s 293us/step - loss: 0.0396 - val_loss: 0.0387\n",
      "Epoch 38/50\n",
      "60000/60000 [==============================] - 18s 292us/step - loss: 0.0396 - val_loss: 0.0394\n",
      "Epoch 39/50\n",
      "60000/60000 [==============================] - 18s 295us/step - loss: 0.0395 - val_loss: 0.0398\n",
      "Epoch 40/50\n",
      "60000/60000 [==============================] - 18s 292us/step - loss: 0.0393 - val_loss: 0.0393\n",
      "Epoch 41/50\n",
      "60000/60000 [==============================] - 18s 293us/step - loss: 0.0393 - val_loss: 0.0396\n",
      "Epoch 42/50\n",
      "60000/60000 [==============================] - 18s 293us/step - loss: 0.0392 - val_loss: 0.0380\n",
      "Epoch 43/50\n",
      "60000/60000 [==============================] - 18s 292us/step - loss: 0.0390 - val_loss: 0.0383\n",
      "Epoch 44/50\n",
      "60000/60000 [==============================] - 18s 293us/step - loss: 0.0391 - val_loss: 0.0390\n",
      "Epoch 45/50\n",
      "60000/60000 [==============================] - 17s 291us/step - loss: 0.0390 - val_loss: 0.0383\n",
      "Epoch 46/50\n",
      "60000/60000 [==============================] - 18s 292us/step - loss: 0.0389 - val_loss: 0.0379\n",
      "Epoch 47/50\n",
      "60000/60000 [==============================] - 18s 295us/step - loss: 0.0389 - val_loss: 0.0403\n",
      "Epoch 48/50\n",
      "60000/60000 [==============================] - 18s 294us/step - loss: 0.0388 - val_loss: 0.0387\n",
      "Epoch 49/50\n",
      "60000/60000 [==============================] - 17s 290us/step - loss: 0.0387 - val_loss: 0.0383\n",
      "Epoch 50/50\n",
      "60000/60000 [==============================] - 17s 291us/step - loss: 0.0387 - val_loss: 0.0374\n"
     ]
    },
    {
     "data": {
      "text/plain": [
       "<keras.callbacks.History at 0x27126e42da0>"
      ]
     },
     "execution_count": 4,
     "metadata": {},
     "output_type": "execute_result"
    }
   ],
   "source": [
    "### Training AE\n",
    "from keras.callbacks import TensorBoard\n",
    "x_train = x_train.reshape(60000,28,28,1)\n",
    "x_test = x_test.reshape(10000,28,28,1)\n",
    "autoencoder.fit(x_train, x_train,\n",
    "                epochs=50,\n",
    "                batch_size=128,\n",
    "                shuffle=True,\n",
    "                validation_data=(x_test, x_test),\n",
    "                callbacks=[TensorBoard(log_dir='/tmp/autoencoder')])"
   ]
  },
  {
   "cell_type": "code",
   "execution_count": 5,
   "metadata": {},
   "outputs": [
    {
     "name": "stdout",
     "output_type": "stream",
     "text": [
      "(10000, 4, 4, 8)\n",
      "(60000, 4, 4, 8)\n"
     ]
    }
   ],
   "source": [
    "### Get Encoded features fron AE\n",
    "encoder = Model(input_img, encoded)\n",
    "encoded_imgs_test = encoder.predict(x_test)\n",
    "encoded_imgs_train = encoder.predict(x_train)\n",
    "print(encoded_imgs_test.shape)\n",
    "print(encoded_imgs_train.shape)"
   ]
  },
  {
   "cell_type": "code",
   "execution_count": 6,
   "metadata": {},
   "outputs": [
    {
     "data": {
      "text/plain": [
       "array([[[0.        , 1.8651708 , 0.43314257, 1.3234646 , 0.9033291 ,\n",
       "         0.3255819 , 1.8197528 , 0.69088566],\n",
       "        [0.5463997 , 2.0978804 , 0.7307594 , 0.71464443, 0.48400748,\n",
       "         1.4261339 , 1.6030585 , 0.6522656 ],\n",
       "        [1.1289582 , 0.10561787, 0.23857817, 0.41181818, 0.18166311,\n",
       "         1.0215348 , 1.4930311 , 0.7148983 ],\n",
       "        [0.26402307, 0.        , 0.04888347, 0.32963136, 0.7024624 ,\n",
       "         0.30097514, 0.6359995 , 0.87245405]],\n",
       "\n",
       "       [[0.7589229 , 1.2272817 , 1.3372182 , 1.6736633 , 1.3918722 ,\n",
       "         0.13132855, 0.99513733, 1.0659105 ],\n",
       "        [1.3451583 , 1.7389289 , 1.462357  , 2.1788864 , 0.96532047,\n",
       "         1.9761679 , 1.7042996 , 1.0706024 ],\n",
       "        [1.7947378 , 0.25978497, 0.728865  , 1.0082989 , 0.        ,\n",
       "         2.2298496 , 1.2796891 , 0.33708343],\n",
       "        [0.26395306, 0.        , 0.0488143 , 0.32971856, 0.70250314,\n",
       "         0.3009434 , 0.6361264 , 0.87250465]],\n",
       "\n",
       "       [[0.27118266, 0.12915725, 0.48774526, 1.0489821 , 0.4238119 ,\n",
       "         0.58796406, 1.5582782 , 0.1121802 ],\n",
       "        [0.4817823 , 2.3528235 , 1.4992311 , 1.620738  , 1.0295845 ,\n",
       "         0.9044611 , 1.5625098 , 0.9487899 ],\n",
       "        [2.2273107 , 0.10598695, 0.98853135, 0.3626724 , 0.        ,\n",
       "         2.8109207 , 1.9147097 , 0.71988434],\n",
       "        [0.27200082, 0.        , 0.06220737, 0.34111407, 0.70445555,\n",
       "         0.3009434 , 0.64234734, 0.87348336]],\n",
       "\n",
       "       [[0.24341163, 0.15607366, 0.28470287, 0.98276544, 0.34002578,\n",
       "         0.35940292, 0.63235533, 0.60086834],\n",
       "        [0.49071118, 2.002682  , 1.7416908 , 1.4536401 , 1.2705716 ,\n",
       "         1.9264002 , 0.        , 1.6200192 ],\n",
       "        [2.6510603 , 0.34955013, 0.989643  , 0.9703587 , 0.        ,\n",
       "         2.7059305 , 1.6856866 , 0.25215268],\n",
       "        [0.38196993, 0.13384674, 0.00571495, 0.34026763, 0.4263328 ,\n",
       "         0.29696378, 0.8225049 , 0.6342724 ]]], dtype=float32)"
      ]
     },
     "execution_count": 6,
     "metadata": {},
     "output_type": "execute_result"
    }
   ],
   "source": [
    "encoded_imgs_test[0]"
   ]
  },
  {
   "cell_type": "code",
   "execution_count": 7,
   "metadata": {},
   "outputs": [
    {
     "name": "stdout",
     "output_type": "stream",
     "text": [
      "(10000, 128)\n",
      "(60000, 128)\n"
     ]
    }
   ],
   "source": [
    "encoded_imgs_test = encoded_imgs_test.reshape(10000,128)\n",
    "encoded_imgs_train = encoded_imgs_train.reshape(60000,128)\n",
    "print(encoded_imgs_test.shape)\n",
    "print(encoded_imgs_train.shape)"
   ]
  },
  {
   "cell_type": "code",
   "execution_count": 8,
   "metadata": {},
   "outputs": [],
   "source": [
    "np.save('left_test.npy',encoded_imgs_test)\n",
    "np.save('left_train.npy',encoded_imgs_train)"
   ]
  }
 ],
 "metadata": {
  "kernelspec": {
   "display_name": "Python 3",
   "language": "python",
   "name": "python3"
  },
  "language_info": {
   "codemirror_mode": {
    "name": "ipython",
    "version": 3
   },
   "file_extension": ".py",
   "mimetype": "text/x-python",
   "name": "python",
   "nbconvert_exporter": "python",
   "pygments_lexer": "ipython3",
   "version": "3.6.6"
  }
 },
 "nbformat": 4,
 "nbformat_minor": 2
}
