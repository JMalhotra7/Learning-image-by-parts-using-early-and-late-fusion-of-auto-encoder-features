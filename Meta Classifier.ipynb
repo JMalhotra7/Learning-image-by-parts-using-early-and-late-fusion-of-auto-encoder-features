{
 "cells": [
  {
   "cell_type": "code",
   "execution_count": 1,
   "metadata": {},
   "outputs": [
    {
     "name": "stderr",
     "output_type": "stream",
     "text": [
      "Using TensorFlow backend.\n"
     ]
    }
   ],
   "source": [
    "\n",
    "import keras\n",
    "import numpy as np\n",
    "from sklearn import metrics\n",
    "from sklearn.svm import SVC\n",
    "from keras.datasets import mnist\n",
    "from sklearn.metrics import accuracy_score\n",
    "from sklearn.model_selection import GridSearchCV"
   ]
  },
  {
   "cell_type": "code",
   "execution_count": 2,
   "metadata": {},
   "outputs": [
    {
     "name": "stdout",
     "output_type": "stream",
     "text": [
      "(60000, 10)\n",
      "(10000, 10)\n",
      "(60000, 10)\n",
      "(10000, 10)\n",
      "(60000, 10)\n",
      "(10000, 10)\n",
      "(60000, 10)\n",
      "(10000, 10)\n"
     ]
    }
   ],
   "source": [
    "\n",
    "top_x_train = np.load('top_x_train_predict.npy')\n",
    "top_x_test = np.load('top_x_test_predict.npy')\n",
    "\n",
    "bottom_x_train = np.load('bottom_x_train_predict.npy')\n",
    "bottom_x_test = np.load('bottom_x_test_predict.npy')\n",
    "\n",
    "right_x_train = np.load('right_x_train_predict.npy')\n",
    "right_x_test = np.load('right_x_test_predict.npy')\n",
    "\n",
    "left_x_train = np.load('left_x_train_predict.npy')\n",
    "left_x_test = np.load('left_x_test_predict.npy')\n",
    "\n",
    "print(top_x_train.shape)\n",
    "print(top_x_test.shape)\n",
    "print(bottom_x_train.shape)\n",
    "print(bottom_x_test.shape)\n",
    "print(right_x_train.shape)\n",
    "print(right_x_test.shape)\n",
    "print(left_x_train.shape)\n",
    "print(left_x_test.shape)"
   ]
  },
  {
   "cell_type": "code",
   "execution_count": 3,
   "metadata": {},
   "outputs": [],
   "source": [
    "### Feature 6 (concatenated 4*128size feature vector to svm --> this SVMs predict_proba)\n",
    "feature6_train = np.load(r'feature6_train.npy')\n",
    "feature6_test = np.load(r'feature6_test.npy')"
   ]
  },
  {
   "cell_type": "code",
   "execution_count": 4,
   "metadata": {},
   "outputs": [],
   "source": [
    "(X, y) , (X_test, y_test) = mnist.load_data()"
   ]
  },
  {
   "cell_type": "code",
   "execution_count": 5,
   "metadata": {},
   "outputs": [
    {
     "name": "stdout",
     "output_type": "stream",
     "text": [
      "(60000, 50)\n",
      "(10000, 50)\n"
     ]
    }
   ],
   "source": [
    "X = np.concatenate((top_x_train,bottom_x_train,right_x_train,left_x_train,feature6_train),axis=1)\n",
    "X_test = np.concatenate((top_x_test,bottom_x_test,right_x_test,left_x_test,feature6_test),axis=1)\n",
    "print(X.shape)\n",
    "print(X_test.shape)"
   ]
  },
  {
   "cell_type": "code",
   "execution_count": 7,
   "metadata": {},
   "outputs": [
    {
     "name": "stdout",
     "output_type": "stream",
     "text": [
      "0.99\n",
      "              precision    recall  f1-score   support\n",
      "\n",
      "           0       0.99      0.99      0.99       980\n",
      "           1       1.00      1.00      1.00      1135\n",
      "           2       0.99      0.99      0.99      1032\n",
      "           3       0.98      0.99      0.99      1010\n",
      "           4       0.99      0.99      0.99       982\n",
      "           5       0.99      0.99      0.99       892\n",
      "           6       0.99      0.99      0.99       958\n",
      "           7       0.99      0.99      0.99      1028\n",
      "           8       0.99      0.99      0.99       974\n",
      "           9       0.99      0.98      0.98      1009\n",
      "\n",
      "   micro avg       0.99      0.99      0.99     10000\n",
      "   macro avg       0.99      0.99      0.99     10000\n",
      "weighted avg       0.99      0.99      0.99     10000\n",
      "\n",
      "--- 10.911658525466919 seconds ---\n"
     ]
    }
   ],
   "source": [
    "clf = SVC(kernel = 'rbf',C = 100,gamma=0.1)\n",
    "clf.fit(X, y)\n",
    "predicted = clf.predict(X_test)\n",
    "print(accuracy_score(y_test, predicted))\n",
    "print(metrics.classification_report(y_test, predicted))\n",
    "print(\"--- %s seconds ---\" % (time.time() - start_time))"
   ]
  }
 ],
 "metadata": {
  "kernelspec": {
   "display_name": "Python 3",
   "language": "python",
   "name": "python3"
  },
  "language_info": {
   "codemirror_mode": {
    "name": "ipython",
    "version": 3
   },
   "file_extension": ".py",
   "mimetype": "text/x-python",
   "name": "python",
   "nbconvert_exporter": "python",
   "pygments_lexer": "ipython3",
   "version": "3.6.6"
  }
 },
 "nbformat": 4,
 "nbformat_minor": 2
}
