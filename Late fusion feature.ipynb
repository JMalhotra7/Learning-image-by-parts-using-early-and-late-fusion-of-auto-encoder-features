{
 "cells": [
  {
   "cell_type": "code",
   "execution_count": 1,
   "metadata": {},
   "outputs": [
    {
     "name": "stderr",
     "output_type": "stream",
     "text": [
      "Using TensorFlow backend.\n"
     ]
    }
   ],
   "source": [
    "import keras\n",
    "import numpy as np\n",
    "from sklearn import metrics\n",
    "from sklearn.svm import SVC\n",
    "from keras.datasets import mnist\n",
    "from sklearn.metrics import accuracy_score\n",
    "from sklearn.model_selection import GridSearchCV"
   ]
  },
  {
   "cell_type": "code",
   "execution_count": 2,
   "metadata": {},
   "outputs": [
    {
     "name": "stdout",
     "output_type": "stream",
     "text": [
      "(60000, 128)\n",
      "(10000, 128)\n",
      "(60000, 128)\n",
      "(10000, 128)\n",
      "(60000, 128)\n",
      "(10000, 128)\n",
      "(60000, 128)\n",
      "(10000, 128)\n"
     ]
    }
   ],
   "source": [
    "top_train = np.load(r'top_train.npy')\n",
    "top_test = np.load(r'top_test.npy')\n",
    "\n",
    "bottom_train = np.load(r'bottom_train.npy')\n",
    "bottom_test = np.load(r'bottom_test.npy')\n",
    "\n",
    "right_train = np.load(r'right_train.npy')\n",
    "right_test = np.load(r'right_test.npy')\n",
    "\n",
    "left_train = np.load(r'left_train.npy')\n",
    "left_test = np.load(r'left_test.npy')\n",
    "\n",
    "print(top_train.shape)\n",
    "print(top_test.shape)\n",
    "print(bottom_train.shape)\n",
    "print(bottom_test.shape)\n",
    "print(right_train.shape)\n",
    "print(right_test.shape)\n",
    "print(left_train.shape)\n",
    "print(left_test.shape)"
   ]
  },
  {
   "cell_type": "markdown",
   "metadata": {},
   "source": [
    "### TOP"
   ]
  },
  {
   "cell_type": "code",
   "execution_count": 3,
   "metadata": {},
   "outputs": [
    {
     "name": "stdout",
     "output_type": "stream",
     "text": [
      "(60000, 128)\n",
      "(60000,)\n",
      "(10000, 128)\n",
      "(10000,)\n"
     ]
    }
   ],
   "source": [
    "import time\n",
    "start_time = time.time()\n",
    "(X, y) , (X_test, y_test) = mnist.load_data()\n",
    "\n",
    "X = top_train\n",
    "y = y.reshape(len(X),)\n",
    "X_test = top_test\n",
    "y_test = y_test.reshape(len(y_test),)\n",
    "\n",
    "print(X.shape)\n",
    "print(y.shape)\n",
    "print(X_test.shape)\n",
    "print(y_test.shape)"
   ]
  },
  {
   "cell_type": "code",
   "execution_count": 4,
   "metadata": {},
   "outputs": [
    {
     "name": "stdout",
     "output_type": "stream",
     "text": [
      "0.9179\n",
      "              precision    recall  f1-score   support\n",
      "\n",
      "           0       0.95      0.98      0.96       980\n",
      "           1       0.98      0.99      0.98      1135\n",
      "           2       0.88      0.83      0.85      1032\n",
      "           3       0.84      0.86      0.85      1010\n",
      "           4       0.96      0.95      0.95       982\n",
      "           5       0.94      0.95      0.94       892\n",
      "           6       0.97      0.97      0.97       958\n",
      "           7       0.88      0.89      0.88      1028\n",
      "           8       0.90      0.87      0.88       974\n",
      "           9       0.90      0.90      0.90      1009\n",
      "\n",
      "   micro avg       0.92      0.92      0.92     10000\n",
      "   macro avg       0.92      0.92      0.92     10000\n",
      "weighted avg       0.92      0.92      0.92     10000\n",
      "\n"
     ]
    }
   ],
   "source": [
    "\n",
    "clf = SVC(kernel = 'linear',C = 1,probability=True) \n",
    "clf.fit(X, y)\n",
    "predicted = clf.predict(X_test)\n",
    "print(accuracy_score(y_test, predicted))\n",
    "print(metrics.classification_report(y_test, predicted))"
   ]
  },
  {
   "cell_type": "code",
   "execution_count": 5,
   "metadata": {},
   "outputs": [
    {
     "name": "stdout",
     "output_type": "stream",
     "text": [
      "(60000, 10)\n",
      "(10000, 10)\n",
      "--- 700.4212319850922 seconds ---\n"
     ]
    }
   ],
   "source": [
    "top_x_train_predict = clf.predict_proba(X)\n",
    "top_x_test_predict = clf.predict_proba(X_test)\n",
    "print(top_x_train_predict.shape)\n",
    "print(top_x_test_predict.shape)\n",
    "print(\"--- %s seconds ---\" % (time.time() - start_time))"
   ]
  },
  {
   "cell_type": "code",
   "execution_count": 33,
   "metadata": {},
   "outputs": [],
   "source": [
    "np.save('top_x_train_predict.npy',top_x_train_predict)\n",
    "np.save('top_x_test_predict.npy',top_x_test_predict)"
   ]
  },
  {
   "cell_type": "markdown",
   "metadata": {},
   "source": [
    "### Bottom"
   ]
  },
  {
   "cell_type": "code",
   "execution_count": 34,
   "metadata": {},
   "outputs": [
    {
     "name": "stdout",
     "output_type": "stream",
     "text": [
      "0.8935\n",
      "              precision    recall  f1-score   support\n",
      "\n",
      "           0       0.96      0.98      0.97       980\n",
      "           1       0.97      0.98      0.98      1135\n",
      "           2       0.93      0.93      0.93      1032\n",
      "           3       0.69      0.84      0.76      1010\n",
      "           4       0.91      0.90      0.91       982\n",
      "           5       0.76      0.58      0.66       892\n",
      "           6       0.94      0.95      0.94       958\n",
      "           7       0.94      0.95      0.94      1028\n",
      "           8       0.93      0.92      0.93       974\n",
      "           9       0.89      0.85      0.87      1009\n",
      "\n",
      "   micro avg       0.89      0.89      0.89     10000\n",
      "   macro avg       0.89      0.89      0.89     10000\n",
      "weighted avg       0.89      0.89      0.89     10000\n",
      "\n"
     ]
    }
   ],
   "source": [
    "X = bottom_train\n",
    "X_test = bottom_test\n",
    "\n",
    "clf = SVC(kernel = 'linear',C = 1,probability=True)\n",
    "clf.fit(X, y)\n",
    "predicted = clf.predict(X_test)\n",
    "print(accuracy_score(y_test, predicted))\n",
    "print(metrics.classification_report(y_test, predicted))"
   ]
  },
  {
   "cell_type": "code",
   "execution_count": 35,
   "metadata": {},
   "outputs": [
    {
     "name": "stdout",
     "output_type": "stream",
     "text": [
      "(60000, 10)\n",
      "(10000, 10)\n"
     ]
    }
   ],
   "source": [
    "bottom_x_train_predict = clf.predict_proba(X)\n",
    "bottom_x_test_predict = clf.predict_proba(X_test)\n",
    "print(bottom_x_train_predict.shape)\n",
    "print(bottom_x_test_predict.shape)"
   ]
  },
  {
   "cell_type": "code",
   "execution_count": 36,
   "metadata": {},
   "outputs": [],
   "source": [
    "np.save('bottom_x_train_predict.npy',bottom_x_train_predict)\n",
    "np.save('bottom_x_test_predict.npy',bottom_x_test_predict)"
   ]
  },
  {
   "cell_type": "markdown",
   "metadata": {},
   "source": [
    "### Right"
   ]
  },
  {
   "cell_type": "code",
   "execution_count": 37,
   "metadata": {},
   "outputs": [
    {
     "name": "stdout",
     "output_type": "stream",
     "text": [
      "0.927\n",
      "              precision    recall  f1-score   support\n",
      "\n",
      "           0       0.96      0.98      0.97       980\n",
      "           1       0.98      0.99      0.98      1135\n",
      "           2       0.93      0.94      0.94      1032\n",
      "           3       0.82      0.89      0.85      1010\n",
      "           4       0.95      0.94      0.94       982\n",
      "           5       0.96      0.93      0.94       892\n",
      "           6       0.95      0.96      0.96       958\n",
      "           7       0.92      0.93      0.92      1028\n",
      "           8       0.88      0.80      0.84       974\n",
      "           9       0.92      0.90      0.91      1009\n",
      "\n",
      "   micro avg       0.93      0.93      0.93     10000\n",
      "   macro avg       0.93      0.93      0.93     10000\n",
      "weighted avg       0.93      0.93      0.93     10000\n",
      "\n"
     ]
    }
   ],
   "source": [
    "X = right_train\n",
    "X_test = right_test\n",
    "\n",
    "clf = SVC(kernel = 'linear',C = 1,probability=True)\n",
    "clf.fit(X, y)\n",
    "predicted = clf.predict(X_test)\n",
    "print(accuracy_score(y_test, predicted))\n",
    "print(metrics.classification_report(y_test, predicted))"
   ]
  },
  {
   "cell_type": "code",
   "execution_count": 38,
   "metadata": {},
   "outputs": [
    {
     "name": "stdout",
     "output_type": "stream",
     "text": [
      "(60000, 10)\n",
      "(10000, 10)\n"
     ]
    }
   ],
   "source": [
    "right_x_train_predict = clf.predict_proba(X)\n",
    "right_x_test_predict = clf.predict_proba(X_test)\n",
    "print(right_x_train_predict.shape)\n",
    "print(right_x_test_predict.shape)"
   ]
  },
  {
   "cell_type": "code",
   "execution_count": 39,
   "metadata": {},
   "outputs": [],
   "source": [
    "np.save('right_x_train_predict.npy',right_x_train_predict)\n",
    "np.save('right_x_test_predict.npy',right_x_test_predict)"
   ]
  },
  {
   "cell_type": "markdown",
   "metadata": {},
   "source": [
    "### Left"
   ]
  },
  {
   "cell_type": "code",
   "execution_count": 40,
   "metadata": {},
   "outputs": [
    {
     "name": "stdout",
     "output_type": "stream",
     "text": [
      "0.9331\n",
      "              precision    recall  f1-score   support\n",
      "\n",
      "           0       0.94      0.94      0.94       980\n",
      "           1       0.96      0.99      0.98      1135\n",
      "           2       0.93      0.94      0.94      1032\n",
      "           3       0.93      0.92      0.92      1010\n",
      "           4       0.93      0.94      0.94       982\n",
      "           5       0.88      0.85      0.87       892\n",
      "           6       0.93      0.94      0.94       958\n",
      "           7       0.96      0.95      0.96      1028\n",
      "           8       0.93      0.92      0.93       974\n",
      "           9       0.92      0.91      0.92      1009\n",
      "\n",
      "   micro avg       0.93      0.93      0.93     10000\n",
      "   macro avg       0.93      0.93      0.93     10000\n",
      "weighted avg       0.93      0.93      0.93     10000\n",
      "\n"
     ]
    }
   ],
   "source": [
    "X = left_train\n",
    "X_test = left_test\n",
    "\n",
    "clf = SVC(kernel = 'linear',C = 1,probability=True)\n",
    "clf.fit(X, y)\n",
    "predicted = clf.predict(X_test)\n",
    "print(accuracy_score(y_test, predicted))\n",
    "print(metrics.classification_report(y_test, predicted))"
   ]
  },
  {
   "cell_type": "code",
   "execution_count": 41,
   "metadata": {},
   "outputs": [
    {
     "name": "stdout",
     "output_type": "stream",
     "text": [
      "(60000, 10)\n",
      "(10000, 10)\n"
     ]
    }
   ],
   "source": [
    "left_x_train_predict = clf.predict_proba(X)\n",
    "left_x_test_predict = clf.predict_proba(X_test)\n",
    "print(left_x_train_predict.shape)\n",
    "print(left_x_test_predict.shape)"
   ]
  },
  {
   "cell_type": "code",
   "execution_count": 42,
   "metadata": {},
   "outputs": [],
   "source": [
    "np.save('left_x_train_predict.npy',left_x_train_predict)\n",
    "np.save('left_x_test_predict.npy',left_x_test_predict)"
   ]
  },
  {
   "cell_type": "code",
   "execution_count": 11,
   "metadata": {},
   "outputs": [
    {
     "data": {
      "text/plain": [
       "array([[3.69639794e-07, 4.04620493e-04, 2.35974661e-04, ...,\n",
       "        9.95427942e-01, 2.89255077e-06, 3.96191307e-05],\n",
       "       [6.11691666e-04, 1.97034733e-04, 8.43414182e-01, ...,\n",
       "        1.57541646e-05, 2.50395019e-03, 1.88231569e-05],\n",
       "       [7.29142510e-08, 9.99314865e-01, 1.07919871e-04, ...,\n",
       "        1.83298982e-04, 5.08047684e-05, 1.69514574e-05],\n",
       "       ...,\n",
       "       [3.38810627e-04, 1.08604008e-03, 3.29131508e-04, ...,\n",
       "        1.19546766e-02, 6.44133924e-03, 9.29202097e-02],\n",
       "       [2.44407099e-03, 5.47423494e-04, 1.10849307e-03, ...,\n",
       "        1.61103199e-04, 1.18146429e-01, 1.21135004e-03],\n",
       "       [4.68212045e-02, 7.27467600e-04, 2.00987269e-01, ...,\n",
       "        5.88068154e-04, 6.84116254e-03, 3.38068454e-03]])"
      ]
     },
     "execution_count": 11,
     "metadata": {},
     "output_type": "execute_result"
    }
   ],
   "source": [
    "clf.predict_proba(X_test)"
   ]
  }
 ],
 "metadata": {
  "kernelspec": {
   "display_name": "Python 3",
   "language": "python",
   "name": "python3"
  },
  "language_info": {
   "codemirror_mode": {
    "name": "ipython",
    "version": 3
   },
   "file_extension": ".py",
   "mimetype": "text/x-python",
   "name": "python",
   "nbconvert_exporter": "python",
   "pygments_lexer": "ipython3",
   "version": "3.6.6"
  }
 },
 "nbformat": 4,
 "nbformat_minor": 2
}
