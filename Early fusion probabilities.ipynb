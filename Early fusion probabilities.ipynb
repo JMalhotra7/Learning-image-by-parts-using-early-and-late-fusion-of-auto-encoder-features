{
 "cells": [
  {
   "cell_type": "code",
   "execution_count": 2,
   "metadata": {},
   "outputs": [
    {
     "name": "stderr",
     "output_type": "stream",
     "text": [
      "Using TensorFlow backend.\n"
     ]
    }
   ],
   "source": [
    "import keras\n",
    "import numpy as np\n",
    "from sklearn import metrics\n",
    "from sklearn.svm import SVC\n",
    "from keras.datasets import mnist\n",
    "from sklearn.metrics import accuracy_score\n",
    "from sklearn.model_selection import GridSearchCV"
   ]
  },
  {
   "cell_type": "code",
   "execution_count": 3,
   "metadata": {},
   "outputs": [
    {
     "name": "stdout",
     "output_type": "stream",
     "text": [
      "(60000, 128)\n",
      "(10000, 128)\n",
      "(60000, 128)\n",
      "(10000, 128)\n",
      "(60000, 128)\n",
      "(10000, 128)\n",
      "(60000, 128)\n",
      "(10000, 128)\n"
     ]
    }
   ],
   "source": [
    "top_train = np.load('top_train.npy')\n",
    "top_test = np.load('top_test.npy')\n",
    "\n",
    "bottom_train = np.load('bottom_train.npy')\n",
    "bottom_test = np.load('bottom_test.npy')\n",
    "\n",
    "right_train = np.load('right_train.npy')\n",
    "right_test = np.load('right_test.npy')\n",
    "\n",
    "left_train = np.load('left_train.npy')\n",
    "left_test = np.load('left_test.npy')\n",
    "\n",
    "print(top_train.shape)\n",
    "print(top_test.shape)\n",
    "print(bottom_train.shape)\n",
    "print(bottom_test.shape)\n",
    "print(right_train.shape)\n",
    "print(right_test.shape)\n",
    "print(left_train.shape)\n",
    "print(left_test.shape)"
   ]
  },
  {
   "cell_type": "code",
   "execution_count": 4,
   "metadata": {},
   "outputs": [
    {
     "name": "stdout",
     "output_type": "stream",
     "text": [
      "(60000, 512)\n",
      "(10000, 512)\n"
     ]
    }
   ],
   "source": [
    "combined_features_train  = np.concatenate((top_train,bottom_train,right_train,left_train),axis=1)\n",
    "combined_features_test = np.concatenate((top_test,bottom_test,right_test,left_test),axis=1)\n",
    "print(combined_features_train.shape)\n",
    "print(combined_features_test.shape)"
   ]
  },
  {
   "cell_type": "code",
   "execution_count": 1,
   "metadata": {},
   "outputs": [],
   "source": [
    "np.save('combined_features_train.npy',combined_features_train)\n",
    "np.save('combined_features_test.npy',combined_features_test)"
   ]
  },
  {
   "cell_type": "code",
   "execution_count": 5,
   "metadata": {},
   "outputs": [
    {
     "name": "stdout",
     "output_type": "stream",
     "text": [
      "(60000, 512)\n",
      "(60000,)\n",
      "(10000, 512)\n",
      "(10000,)\n"
     ]
    }
   ],
   "source": [
    "(X, y) , (X_test, y_test) = mnist.load_data()\n",
    "\n",
    "X = np.load('combined_features_train.npy')\n",
    "y = y.reshape(len(X),)\n",
    "X_test = np.load('combined_features_test.npy')\n",
    "y_test = y_test.reshape(len(y_test),)\n",
    "\n",
    "print(X.shape)\n",
    "print(y.shape)\n",
    "print(X_test.shape)\n",
    "print(y_test.shape)"
   ]
  },
  {
   "cell_type": "code",
   "execution_count": 6,
   "metadata": {},
   "outputs": [],
   "source": [
    "clf = SVC(kernel = 'rbf',C = 100,gamma=0.01,probability = True)\n",
    "clf.fit(X, y)\n",
    "predicted = clf.predict(X_test)"
   ]
  },
  {
   "cell_type": "code",
   "execution_count": 8,
   "metadata": {},
   "outputs": [
    {
     "name": "stdout",
     "output_type": "stream",
     "text": [
      "(60000, 10)\n",
      "(10000, 10)\n"
     ]
    }
   ],
   "source": [
    "feature6_train = clf.predict_proba(X)\n",
    "feature6_test = clf.predict_proba(X_test)\n",
    "print(feature6_train.shape)\n",
    "print(feature6_test.shape)"
   ]
  },
  {
   "cell_type": "code",
   "execution_count": 14,
   "metadata": {},
   "outputs": [],
   "source": [
    "np.save('feature6_train.npy',feature6_train)\n",
    "np.save('feature6_test.npy',feature6_test)"
   ]
  }
 ],
 "metadata": {
  "kernelspec": {
   "display_name": "Python 3",
   "language": "python",
   "name": "python3"
  },
  "language_info": {
   "codemirror_mode": {
    "name": "ipython",
    "version": 3
   },
   "file_extension": ".py",
   "mimetype": "text/x-python",
   "name": "python",
   "nbconvert_exporter": "python",
   "pygments_lexer": "ipython3",
   "version": "3.6.6"
  }
 },
 "nbformat": 4,
 "nbformat_minor": 2
}
