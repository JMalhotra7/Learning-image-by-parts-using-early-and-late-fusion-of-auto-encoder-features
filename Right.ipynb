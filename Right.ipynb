{
 "cells": [
  {
   "cell_type": "code",
   "execution_count": 1,
   "metadata": {},
   "outputs": [
    {
     "name": "stderr",
     "output_type": "stream",
     "text": [
      "Using TensorFlow backend.\n"
     ]
    }
   ],
   "source": [
    "### Libraries\n",
    "from __future__ import print_function\n",
    "import keras\n",
    "from keras.datasets import mnist\n",
    "from keras.models import Sequential\n",
    "from keras.layers import Dense, Dropout, Flatten\n",
    "from keras.callbacks import ModelCheckpoint\n",
    "from keras.models import model_from_json\n",
    "from keras.layers import Input, Dense, Conv2D, MaxPooling2D, UpSampling2D, Flatten, Reshape\n",
    "from keras.models import Model\n",
    "from keras import backend as K\n",
    "import numpy as np"
   ]
  },
  {
   "cell_type": "code",
   "execution_count": 2,
   "metadata": {},
   "outputs": [
    {
     "name": "stdout",
     "output_type": "stream",
     "text": [
      "Training data shape:  (60000, 28, 28)\n",
      "Testing data shape :  (10000, 28, 28)\n"
     ]
    }
   ],
   "source": [
    "### Loading Data\n",
    "(x_train, y_train), (x_test, y_test) = mnist.load_data()\n",
    "\n",
    "x_train = np.load(r'right_x_train.npy')\n",
    "x_test = np.load(r'right_x_test.npy')\n",
    "\n",
    "x_train = x_train.astype('float32') / 255.\n",
    "x_test = x_test.astype('float32') / 255.\n",
    "\n",
    "print('Training data shape: ', x_train.shape)\n",
    "print('Testing data shape : ', x_test.shape)"
   ]
  },
  {
   "cell_type": "code",
   "execution_count": 3,
   "metadata": {},
   "outputs": [
    {
     "name": "stdout",
     "output_type": "stream",
     "text": [
      "WARNING:tensorflow:From c:\\users\\jatin\\appdata\\local\\programs\\python\\python36\\lib\\site-packages\\tensorflow\\python\\framework\\op_def_library.py:263: colocate_with (from tensorflow.python.framework.ops) is deprecated and will be removed in a future version.\n",
      "Instructions for updating:\n",
      "Colocations handled automatically by placer.\n"
     ]
    }
   ],
   "source": [
    "input_img = Input(shape=(28, 28, 1))  # adapt this if using `channels_first` image data format\n",
    "\n",
    "x = Conv2D(16, (3, 3), activation='relu', padding='same')(input_img)\n",
    "x = MaxPooling2D((2, 2), padding='same')(x)\n",
    "x = Conv2D(8, (3, 3), activation='relu', padding='same')(x)\n",
    "x = MaxPooling2D((2, 2), padding='same')(x)\n",
    "x = Conv2D(8, (3, 3), activation='relu', padding='same')(x)\n",
    "encoded = MaxPooling2D((2, 2), padding='same')(x)\n",
    "\n",
    "# at this point the representation is (4, 4, 8) i.e. 128-dimensional\n",
    "\n",
    "x = Conv2D(8, (3, 3), activation='relu', padding='same')(encoded)\n",
    "x = UpSampling2D((2, 2))(x)\n",
    "x = Conv2D(8, (3, 3), activation='relu', padding='same')(x)\n",
    "x = UpSampling2D((2, 2))(x)\n",
    "x = Conv2D(16, (3, 3), activation='relu')(x)\n",
    "x = UpSampling2D((2, 2))(x)\n",
    "decoded = Conv2D(1, (3, 3), activation='sigmoid', padding='same')(x)\n",
    "\n",
    "autoencoder = Model(input_img, decoded)\n",
    "autoencoder.compile(optimizer='adadelta', loss='binary_crossentropy')"
   ]
  },
  {
   "cell_type": "code",
   "execution_count": 4,
   "metadata": {},
   "outputs": [
    {
     "name": "stdout",
     "output_type": "stream",
     "text": [
      "WARNING:tensorflow:From c:\\users\\jatin\\appdata\\local\\programs\\python\\python36\\lib\\site-packages\\tensorflow\\python\\ops\\math_ops.py:3066: to_int32 (from tensorflow.python.ops.math_ops) is deprecated and will be removed in a future version.\n",
      "Instructions for updating:\n",
      "Use tf.cast instead.\n",
      "Train on 60000 samples, validate on 10000 samples\n",
      "Epoch 1/50\n",
      "60000/60000 [==============================] - 19s 318us/step - loss: 0.1230 - val_loss: 0.0917\n",
      "Epoch 2/50\n",
      "60000/60000 [==============================] - 17s 286us/step - loss: 0.0843 - val_loss: 0.0754\n",
      "Epoch 3/50\n",
      "60000/60000 [==============================] - 17s 286us/step - loss: 0.0744 - val_loss: 0.0693\n",
      "Epoch 4/50\n",
      "60000/60000 [==============================] - 17s 287us/step - loss: 0.0692 - val_loss: 0.0660\n",
      "Epoch 5/50\n",
      "60000/60000 [==============================] - 17s 286us/step - loss: 0.0662 - val_loss: 0.0647\n",
      "Epoch 6/50\n",
      "60000/60000 [==============================] - 17s 288us/step - loss: 0.0639 - val_loss: 0.0628\n",
      "Epoch 7/50\n",
      "60000/60000 [==============================] - 17s 287us/step - loss: 0.0622 - val_loss: 0.0603\n",
      "Epoch 8/50\n",
      "60000/60000 [==============================] - 17s 286us/step - loss: 0.0608 - val_loss: 0.0623\n",
      "Epoch 9/50\n",
      "60000/60000 [==============================] - 17s 287us/step - loss: 0.0597 - val_loss: 0.0584\n",
      "Epoch 10/50\n",
      "60000/60000 [==============================] - 17s 287us/step - loss: 0.0588 - val_loss: 0.0587\n",
      "Epoch 11/50\n",
      "60000/60000 [==============================] - 17s 287us/step - loss: 0.0581 - val_loss: 0.0563\n",
      "Epoch 12/50\n",
      "60000/60000 [==============================] - 17s 288us/step - loss: 0.0573 - val_loss: 0.0557\n",
      "Epoch 13/50\n",
      "60000/60000 [==============================] - 17s 287us/step - loss: 0.0567 - val_loss: 0.0567\n",
      "Epoch 14/50\n",
      "60000/60000 [==============================] - 17s 287us/step - loss: 0.0561 - val_loss: 0.0549\n",
      "Epoch 15/50\n",
      "60000/60000 [==============================] - 17s 287us/step - loss: 0.0555 - val_loss: 0.0536\n",
      "Epoch 16/50\n",
      "60000/60000 [==============================] - 17s 290us/step - loss: 0.0551 - val_loss: 0.0543\n",
      "Epoch 17/50\n",
      "60000/60000 [==============================] - 18s 292us/step - loss: 0.0547 - val_loss: 0.0549\n",
      "Epoch 18/50\n",
      "60000/60000 [==============================] - 18s 297us/step - loss: 0.0543 - val_loss: 0.0520\n",
      "Epoch 19/50\n",
      "60000/60000 [==============================] - 18s 302us/step - loss: 0.0538 - val_loss: 0.0536\n",
      "Epoch 20/50\n",
      "60000/60000 [==============================] - 18s 307us/step - loss: 0.0534 - val_loss: 0.0533\n",
      "Epoch 21/50\n",
      "60000/60000 [==============================] - 18s 300us/step - loss: 0.0532 - val_loss: 0.0518\n",
      "Epoch 22/50\n",
      "60000/60000 [==============================] - 18s 294us/step - loss: 0.0528 - val_loss: 0.0516\n",
      "Epoch 23/50\n",
      "60000/60000 [==============================] - 18s 294us/step - loss: 0.0524 - val_loss: 0.0516\n",
      "Epoch 24/50\n",
      "60000/60000 [==============================] - 18s 294us/step - loss: 0.0522 - val_loss: 0.0512\n",
      "Epoch 25/50\n",
      "60000/60000 [==============================] - 18s 297us/step - loss: 0.0520 - val_loss: 0.0510\n",
      "Epoch 26/50\n",
      "60000/60000 [==============================] - 18s 294us/step - loss: 0.0516 - val_loss: 0.0516\n",
      "Epoch 27/50\n",
      "60000/60000 [==============================] - 18s 295us/step - loss: 0.0515 - val_loss: 0.0508\n",
      "Epoch 28/50\n",
      "60000/60000 [==============================] - 18s 302us/step - loss: 0.0513 - val_loss: 0.0506\n",
      "Epoch 29/50\n",
      "60000/60000 [==============================] - 18s 301us/step - loss: 0.0509 - val_loss: 0.0508\n",
      "Epoch 30/50\n",
      "60000/60000 [==============================] - 18s 294us/step - loss: 0.0509 - val_loss: 0.0512\n",
      "Epoch 31/50\n",
      "60000/60000 [==============================] - 18s 301us/step - loss: 0.0506 - val_loss: 0.0503\n",
      "Epoch 32/50\n",
      "60000/60000 [==============================] - 18s 303us/step - loss: 0.0505 - val_loss: 0.0510\n",
      "Epoch 33/50\n",
      "60000/60000 [==============================] - 18s 303us/step - loss: 0.0503 - val_loss: 0.0501\n",
      "Epoch 34/50\n",
      "60000/60000 [==============================] - 18s 303us/step - loss: 0.0501 - val_loss: 0.0492\n",
      "Epoch 35/50\n",
      "60000/60000 [==============================] - 18s 307us/step - loss: 0.0500 - val_loss: 0.0500\n",
      "Epoch 36/50\n",
      "60000/60000 [==============================] - 19s 313us/step - loss: 0.0499 - val_loss: 0.0503\n",
      "Epoch 37/50\n",
      "60000/60000 [==============================] - 19s 311us/step - loss: 0.0498 - val_loss: 0.0485\n",
      "Epoch 38/50\n",
      "60000/60000 [==============================] - 19s 310us/step - loss: 0.0496 - val_loss: 0.0486\n",
      "Epoch 39/50\n",
      "60000/60000 [==============================] - 19s 314us/step - loss: 0.0495 - val_loss: 0.0496\n",
      "Epoch 40/50\n",
      "60000/60000 [==============================] - 20s 330us/step - loss: 0.0494 - val_loss: 0.0479\n",
      "Epoch 41/50\n",
      "60000/60000 [==============================] - 20s 328us/step - loss: 0.0493 - val_loss: 0.0485\n",
      "Epoch 42/50\n",
      "60000/60000 [==============================] - 20s 328us/step - loss: 0.0492 - val_loss: 0.0475\n",
      "Epoch 43/50\n",
      "60000/60000 [==============================] - 20s 328us/step - loss: 0.0490 - val_loss: 0.0484\n",
      "Epoch 44/50\n",
      "60000/60000 [==============================] - 19s 317us/step - loss: 0.0490 - val_loss: 0.0482\n",
      "Epoch 45/50\n",
      "60000/60000 [==============================] - 19s 314us/step - loss: 0.0488 - val_loss: 0.0479\n",
      "Epoch 46/50\n",
      "60000/60000 [==============================] - 19s 315us/step - loss: 0.0487 - val_loss: 0.0482\n",
      "Epoch 47/50\n",
      "60000/60000 [==============================] - 19s 315us/step - loss: 0.0486 - val_loss: 0.0481\n",
      "Epoch 48/50\n",
      "60000/60000 [==============================] - 19s 317us/step - loss: 0.0486 - val_loss: 0.0472\n",
      "Epoch 49/50\n",
      "60000/60000 [==============================] - 19s 316us/step - loss: 0.0485 - val_loss: 0.0467\n",
      "Epoch 50/50\n",
      "60000/60000 [==============================] - 19s 317us/step - loss: 0.0484 - val_loss: 0.0473\n"
     ]
    },
    {
     "data": {
      "text/plain": [
       "<keras.callbacks.History at 0x1d3be5d6fd0>"
      ]
     },
     "execution_count": 4,
     "metadata": {},
     "output_type": "execute_result"
    }
   ],
   "source": [
    "### Training AE\n",
    "from keras.callbacks import TensorBoard\n",
    "x_train = x_train.reshape(60000,28,28,1)\n",
    "x_test = x_test.reshape(10000,28,28,1)\n",
    "autoencoder.fit(x_train, x_train,\n",
    "                epochs=50,\n",
    "                batch_size=128,\n",
    "                shuffle=True,\n",
    "                validation_data=(x_test, x_test),\n",
    "                callbacks=[TensorBoard(log_dir='/tmp/autoencoder')])"
   ]
  },
  {
   "cell_type": "code",
   "execution_count": 5,
   "metadata": {},
   "outputs": [
    {
     "name": "stdout",
     "output_type": "stream",
     "text": [
      "(10000, 4, 4, 8)\n",
      "(60000, 4, 4, 8)\n"
     ]
    }
   ],
   "source": [
    "### Get Encoded features fron AE\n",
    "encoder = Model(input_img, encoded)\n",
    "encoded_imgs_test = encoder.predict(x_test)\n",
    "encoded_imgs_train = encoder.predict(x_train)\n",
    "print(encoded_imgs_test.shape)\n",
    "print(encoded_imgs_train.shape)"
   ]
  },
  {
   "cell_type": "code",
   "execution_count": 6,
   "metadata": {},
   "outputs": [
    {
     "data": {
      "text/plain": [
       "array([[[0.01862454, 0.28691977, 0.2043209 , 0.2935902 , 0.0253025 ,\n",
       "         0.44627056, 0.05362864, 0.20643257],\n",
       "        [0.1447528 , 0.9431563 , 0.9180924 , 0.6723197 , 0.30765715,\n",
       "         1.160103  , 0.27315098, 0.4134518 ],\n",
       "        [0.23307937, 1.3198574 , 0.9859771 , 0.91113317, 0.8025465 ,\n",
       "         1.0090364 , 0.44489092, 0.3981384 ],\n",
       "        [0.2055982 , 0.7569577 , 0.43345398, 0.8960943 , 0.39467153,\n",
       "         0.08049189, 0.34654891, 0.        ]],\n",
       "\n",
       "       [[0.0179552 , 0.2357165 , 0.2326038 , 0.3778486 , 0.08421934,\n",
       "         0.3476381 , 0.33062536, 0.38333726],\n",
       "        [1.0496483 , 0.91904205, 1.4776417 , 0.        , 0.56679153,\n",
       "         1.9022161 , 1.9693677 , 0.4876135 ],\n",
       "        [1.6330571 , 1.2561822 , 1.4573786 , 0.        , 1.8751793 ,\n",
       "         2.1343753 , 1.9870944 , 0.70977825],\n",
       "        [0.16864365, 0.3282979 , 0.60385305, 0.25274906, 0.76358175,\n",
       "         0.34687868, 0.80991054, 1.5299995 ]],\n",
       "\n",
       "       [[0.07421267, 0.22356161, 0.23391554, 0.16032383, 0.0802457 ,\n",
       "         0.48386565, 0.23503958, 0.36794573],\n",
       "        [1.3549396 , 0.931664  , 1.4137605 , 0.        , 0.92860544,\n",
       "         1.0662553 , 2.0026298 , 0.23689292],\n",
       "        [1.4568396 , 0.02560577, 1.726006  , 0.35372785, 1.5150703 ,\n",
       "         0.9898193 , 1.5639759 , 1.5467008 ],\n",
       "        [0.16343573, 0.3163063 , 0.27346495, 0.5053988 , 0.        ,\n",
       "         0.06367114, 0.0467657 , 1.2351948 ]],\n",
       "\n",
       "       [[0.03981373, 0.41244888, 0.14962858, 0.40596482, 0.15979362,\n",
       "         0.16168907, 0.24316762, 0.20156862],\n",
       "        [1.1534808 , 0.3450837 , 0.85741395, 0.01099172, 0.4261699 ,\n",
       "         0.41343117, 0.8505293 , 0.58713794],\n",
       "        [0.7081381 , 0.48336297, 0.17114308, 0.61574304, 0.27155617,\n",
       "         0.19215846, 0.5792904 , 1.029456  ],\n",
       "        [0.01849177, 0.61691594, 0.3636757 , 0.1599483 , 0.        ,\n",
       "         0.08619478, 0.02662216, 0.05655596]]], dtype=float32)"
      ]
     },
     "execution_count": 6,
     "metadata": {},
     "output_type": "execute_result"
    }
   ],
   "source": [
    "encoded_imgs_test[0]"
   ]
  },
  {
   "cell_type": "code",
   "execution_count": 7,
   "metadata": {},
   "outputs": [
    {
     "name": "stdout",
     "output_type": "stream",
     "text": [
      "(10000, 128)\n",
      "(60000, 128)\n"
     ]
    }
   ],
   "source": [
    "encoded_imgs_test = encoded_imgs_test.reshape(10000,128)\n",
    "encoded_imgs_train = encoded_imgs_train.reshape(60000,128)\n",
    "print(encoded_imgs_test.shape)\n",
    "print(encoded_imgs_train.shape)"
   ]
  },
  {
   "cell_type": "code",
   "execution_count": 8,
   "metadata": {},
   "outputs": [],
   "source": [
    "np.save('right_test.npy',encoded_imgs_test)\n",
    "np.save('right_train.npy',encoded_imgs_train)"
   ]
  },
  {
   "cell_type": "code",
   "execution_count": null,
   "metadata": {},
   "outputs": [],
   "source": []
  }
 ],
 "metadata": {
  "kernelspec": {
   "display_name": "Python 3",
   "language": "python",
   "name": "python3"
  },
  "language_info": {
   "codemirror_mode": {
    "name": "ipython",
    "version": 3
   },
   "file_extension": ".py",
   "mimetype": "text/x-python",
   "name": "python",
   "nbconvert_exporter": "python",
   "pygments_lexer": "ipython3",
   "version": "3.6.6"
  }
 },
 "nbformat": 4,
 "nbformat_minor": 2
}
