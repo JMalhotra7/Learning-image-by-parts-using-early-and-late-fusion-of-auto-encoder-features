{
 "cells": [
  {
   "cell_type": "code",
   "execution_count": 1,
   "metadata": {},
   "outputs": [
    {
     "name": "stderr",
     "output_type": "stream",
     "text": [
      "Using TensorFlow backend.\n"
     ]
    }
   ],
   "source": [
    "### Libraries\n",
    "from __future__ import print_function\n",
    "import keras\n",
    "from keras.datasets import mnist\n",
    "from keras.models import Sequential\n",
    "from keras.layers import Dense, Dropout, Flatten\n",
    "from keras.callbacks import ModelCheckpoint\n",
    "from keras.models import model_from_json\n",
    "from keras.layers import Input, Dense, Conv2D, MaxPooling2D, UpSampling2D, Flatten, Reshape\n",
    "from keras.models import Model\n",
    "from keras import backend as K\n",
    "import numpy as np"
   ]
  },
  {
   "cell_type": "code",
   "execution_count": 2,
   "metadata": {},
   "outputs": [
    {
     "name": "stdout",
     "output_type": "stream",
     "text": [
      "Training data shape:  (60000, 28, 28)\n",
      "Testing data shape :  (10000, 28, 28)\n"
     ]
    }
   ],
   "source": [
    "### Loading Data\n",
    "(x_train, y_train), (x_test, y_test) = mnist.load_data()\n",
    "\n",
    "x_train = np.load(r'bottom_x_train.npy')\n",
    "x_test = np.load(r'bottom_x_test.npy')\n",
    "\n",
    "x_train = x_train.astype('float32') / 255.\n",
    "x_test = x_test.astype('float32') / 255.\n",
    "\n",
    "print('Training data shape: ', x_train.shape)\n",
    "print('Testing data shape : ', x_test.shape)"
   ]
  },
  {
   "cell_type": "code",
   "execution_count": 3,
   "metadata": {},
   "outputs": [
    {
     "name": "stdout",
     "output_type": "stream",
     "text": [
      "WARNING:tensorflow:From c:\\users\\jatin\\appdata\\local\\programs\\python\\python36\\lib\\site-packages\\tensorflow\\python\\framework\\op_def_library.py:263: colocate_with (from tensorflow.python.framework.ops) is deprecated and will be removed in a future version.\n",
      "Instructions for updating:\n",
      "Colocations handled automatically by placer.\n"
     ]
    }
   ],
   "source": [
    "input_img = Input(shape=(28, 28, 1))  # adapt this if using `channels_first` image data format\n",
    "\n",
    "x = Conv2D(16, (3, 3), activation='relu', padding='same')(input_img)\n",
    "x = MaxPooling2D((2, 2), padding='same')(x)\n",
    "x = Conv2D(8, (3, 3), activation='relu', padding='same')(x)\n",
    "x = MaxPooling2D((2, 2), padding='same')(x)\n",
    "x = Conv2D(8, (3, 3), activation='relu', padding='same')(x)\n",
    "encoded = MaxPooling2D((2, 2), padding='same')(x)\n",
    "\n",
    "# at this point the representation is (4, 4, 8) i.e. 128-dimensional\n",
    "\n",
    "x = Conv2D(8, (3, 3), activation='relu', padding='same')(encoded)\n",
    "x = UpSampling2D((2, 2))(x)\n",
    "x = Conv2D(8, (3, 3), activation='relu', padding='same')(x)\n",
    "x = UpSampling2D((2, 2))(x)\n",
    "x = Conv2D(16, (3, 3), activation='relu')(x)\n",
    "x = UpSampling2D((2, 2))(x)\n",
    "decoded = Conv2D(1, (3, 3), activation='sigmoid', padding='same')(x)\n",
    "\n",
    "autoencoder = Model(input_img, decoded)\n",
    "autoencoder.compile(optimizer='adadelta', loss='binary_crossentropy')"
   ]
  },
  {
   "cell_type": "code",
   "execution_count": 4,
   "metadata": {},
   "outputs": [
    {
     "name": "stdout",
     "output_type": "stream",
     "text": [
      "WARNING:tensorflow:From c:\\users\\jatin\\appdata\\local\\programs\\python\\python36\\lib\\site-packages\\tensorflow\\python\\ops\\math_ops.py:3066: to_int32 (from tensorflow.python.ops.math_ops) is deprecated and will be removed in a future version.\n",
      "Instructions for updating:\n",
      "Use tf.cast instead.\n",
      "Train on 60000 samples, validate on 10000 samples\n",
      "Epoch 1/50\n",
      "60000/60000 [==============================] - 19s 314us/step - loss: 0.1219 - val_loss: 0.0813\n",
      "Epoch 2/50\n",
      "60000/60000 [==============================] - 17s 283us/step - loss: 0.0773 - val_loss: 0.0726\n",
      "Epoch 3/50\n",
      "60000/60000 [==============================] - 17s 283us/step - loss: 0.0694 - val_loss: 0.0666\n",
      "Epoch 4/50\n",
      "60000/60000 [==============================] - 17s 283us/step - loss: 0.0648 - val_loss: 0.0628\n",
      "Epoch 5/50\n",
      "60000/60000 [==============================] - 17s 284us/step - loss: 0.0618 - val_loss: 0.0619\n",
      "Epoch 6/50\n",
      "60000/60000 [==============================] - 17s 283us/step - loss: 0.0594 - val_loss: 0.0590\n",
      "Epoch 7/50\n",
      "60000/60000 [==============================] - 17s 283us/step - loss: 0.0579 - val_loss: 0.0571\n",
      "Epoch 8/50\n",
      "60000/60000 [==============================] - 17s 282us/step - loss: 0.0569 - val_loss: 0.0554\n",
      "Epoch 9/50\n",
      "60000/60000 [==============================] - 17s 283us/step - loss: 0.0557 - val_loss: 0.0541\n",
      "Epoch 10/50\n",
      "60000/60000 [==============================] - 17s 283us/step - loss: 0.0548 - val_loss: 0.0529\n",
      "Epoch 11/50\n",
      "60000/60000 [==============================] - 17s 283us/step - loss: 0.0541 - val_loss: 0.0511\n",
      "Epoch 12/50\n",
      "60000/60000 [==============================] - 17s 284us/step - loss: 0.0533 - val_loss: 0.0523\n",
      "Epoch 13/50\n",
      "60000/60000 [==============================] - 17s 284us/step - loss: 0.0527 - val_loss: 0.0516\n",
      "Epoch 14/50\n",
      "60000/60000 [==============================] - 17s 285us/step - loss: 0.0524 - val_loss: 0.0509\n",
      "Epoch 15/50\n",
      "60000/60000 [==============================] - 17s 290us/step - loss: 0.0520 - val_loss: 0.0509\n",
      "Epoch 16/50\n",
      "60000/60000 [==============================] - 17s 287us/step - loss: 0.0517 - val_loss: 0.0504\n",
      "Epoch 17/50\n",
      "60000/60000 [==============================] - 17s 285us/step - loss: 0.0513 - val_loss: 0.0480\n",
      "Epoch 18/50\n",
      "60000/60000 [==============================] - 17s 284us/step - loss: 0.0508 - val_loss: 0.0500\n",
      "Epoch 19/50\n",
      "60000/60000 [==============================] - 17s 286us/step - loss: 0.0507 - val_loss: 0.0489\n",
      "Epoch 20/50\n",
      "60000/60000 [==============================] - 17s 287us/step - loss: 0.0504 - val_loss: 0.0510\n",
      "Epoch 21/50\n",
      "60000/60000 [==============================] - 18s 293us/step - loss: 0.0501 - val_loss: 0.0509\n",
      "Epoch 22/50\n",
      "60000/60000 [==============================] - 17s 289us/step - loss: 0.0499 - val_loss: 0.0479\n",
      "Epoch 23/50\n",
      "60000/60000 [==============================] - 17s 286us/step - loss: 0.0497 - val_loss: 0.0492\n",
      "Epoch 24/50\n",
      "60000/60000 [==============================] - 17s 288us/step - loss: 0.0494 - val_loss: 0.0485\n",
      "Epoch 25/50\n",
      "60000/60000 [==============================] - 18s 292us/step - loss: 0.0492 - val_loss: 0.0486\n",
      "Epoch 26/50\n",
      "60000/60000 [==============================] - 18s 297us/step - loss: 0.0491 - val_loss: 0.0483\n",
      "Epoch 27/50\n",
      "60000/60000 [==============================] - 19s 314us/step - loss: 0.0489 - val_loss: 0.0489\n",
      "Epoch 28/50\n",
      "60000/60000 [==============================] - 18s 301us/step - loss: 0.0489 - val_loss: 0.0470\n",
      "Epoch 29/50\n",
      "60000/60000 [==============================] - 17s 292us/step - loss: 0.0486 - val_loss: 0.0472\n",
      "Epoch 30/50\n",
      "60000/60000 [==============================] - 17s 288us/step - loss: 0.0484 - val_loss: 0.0480\n",
      "Epoch 31/50\n",
      "60000/60000 [==============================] - 17s 291us/step - loss: 0.0483 - val_loss: 0.0478\n",
      "Epoch 32/50\n",
      "60000/60000 [==============================] - 18s 292us/step - loss: 0.0482 - val_loss: 0.0466\n",
      "Epoch 33/50\n",
      "60000/60000 [==============================] - 18s 294us/step - loss: 0.0481 - val_loss: 0.0464\n",
      "Epoch 34/50\n",
      "60000/60000 [==============================] - 18s 301us/step - loss: 0.0479 - val_loss: 0.0463\n",
      "Epoch 35/50\n",
      "60000/60000 [==============================] - 18s 296us/step - loss: 0.0478 - val_loss: 0.0466\n",
      "Epoch 36/50\n",
      "60000/60000 [==============================] - 17s 289us/step - loss: 0.0478 - val_loss: 0.0465\n",
      "Epoch 37/50\n",
      "60000/60000 [==============================] - 18s 298us/step - loss: 0.0477 - val_loss: 0.0464\n",
      "Epoch 38/50\n",
      "60000/60000 [==============================] - 18s 297us/step - loss: 0.0475 - val_loss: 0.0465\n",
      "Epoch 39/50\n",
      "60000/60000 [==============================] - 18s 296us/step - loss: 0.0474 - val_loss: 0.0469\n",
      "Epoch 40/50\n",
      "60000/60000 [==============================] - 17s 291us/step - loss: 0.0474 - val_loss: 0.0452\n",
      "Epoch 41/50\n",
      "60000/60000 [==============================] - 18s 293us/step - loss: 0.0473 - val_loss: 0.0464\n",
      "Epoch 42/50\n",
      "60000/60000 [==============================] - 18s 298us/step - loss: 0.0470 - val_loss: 0.0455\n",
      "Epoch 43/50\n",
      "60000/60000 [==============================] - 18s 300us/step - loss: 0.0470 - val_loss: 0.0490\n",
      "Epoch 44/50\n",
      "60000/60000 [==============================] - 18s 298us/step - loss: 0.0470 - val_loss: 0.0468\n",
      "Epoch 45/50\n",
      "60000/60000 [==============================] - 17s 291us/step - loss: 0.0469 - val_loss: 0.0468\n",
      "Epoch 46/50\n",
      "60000/60000 [==============================] - 18s 296us/step - loss: 0.0468 - val_loss: 0.0466\n",
      "Epoch 47/50\n",
      "60000/60000 [==============================] - 18s 292us/step - loss: 0.0468 - val_loss: 0.0457\n",
      "Epoch 48/50\n",
      "60000/60000 [==============================] - 18s 292us/step - loss: 0.0466 - val_loss: 0.0452\n",
      "Epoch 49/50\n",
      "60000/60000 [==============================] - 18s 295us/step - loss: 0.0466 - val_loss: 0.0469\n",
      "Epoch 50/50\n",
      "60000/60000 [==============================] - 18s 299us/step - loss: 0.0464 - val_loss: 0.0458\n"
     ]
    },
    {
     "data": {
      "text/plain": [
       "<keras.callbacks.History at 0x2bc35e019e8>"
      ]
     },
     "execution_count": 4,
     "metadata": {},
     "output_type": "execute_result"
    }
   ],
   "source": [
    "### Training AE\n",
    "from keras.callbacks import TensorBoard\n",
    "x_train = x_train.reshape(60000,28,28,1)\n",
    "x_test = x_test.reshape(10000,28,28,1)\n",
    "autoencoder.fit(x_train, x_train,\n",
    "                epochs=50,\n",
    "                batch_size=128,\n",
    "                shuffle=True,\n",
    "                validation_data=(x_test, x_test),\n",
    "                callbacks=[TensorBoard(log_dir='/tmp/autoencoder')])"
   ]
  },
  {
   "cell_type": "code",
   "execution_count": 5,
   "metadata": {},
   "outputs": [
    {
     "name": "stdout",
     "output_type": "stream",
     "text": [
      "(10000, 4, 4, 8)\n",
      "(60000, 4, 4, 8)\n"
     ]
    }
   ],
   "source": [
    "### Get Encoded features fron AE\n",
    "encoder = Model(input_img, encoded)\n",
    "encoded_imgs_test = encoder.predict(x_test)\n",
    "encoded_imgs_train = encoder.predict(x_train)\n",
    "print(encoded_imgs_test.shape)\n",
    "print(encoded_imgs_train.shape)"
   ]
  },
  {
   "cell_type": "code",
   "execution_count": 6,
   "metadata": {},
   "outputs": [
    {
     "data": {
      "text/plain": [
       "array([[[0.5305677 , 0.        , 0.        , 0.09398005, 0.37799397,\n",
       "         0.        , 0.63616174, 0.8817668 ],\n",
       "        [0.50345653, 0.        , 0.40542552, 0.21385351, 0.34523183,\n",
       "         0.        , 0.5944749 , 0.8567619 ],\n",
       "        [0.47050312, 0.08358201, 0.06465843, 0.40509298, 0.32315558,\n",
       "         0.        , 0.896054  , 0.92295945],\n",
       "        [0.5077153 , 0.        , 0.22658002, 0.15152271, 0.28277388,\n",
       "         0.        , 0.7598185 , 0.6966809 ]],\n",
       "\n",
       "       [[0.43489316, 0.        , 0.35688525, 0.19857265, 0.30728057,\n",
       "         0.        , 0.79810107, 0.8084071 ],\n",
       "        [0.15602805, 1.5925767 , 1.1906971 , 0.60484105, 0.4833144 ,\n",
       "         1.2912296 , 1.3187982 , 0.6775946 ],\n",
       "        [0.        , 1.2280915 , 0.25342157, 1.5116044 , 1.7256677 ,\n",
       "         0.9689305 , 0.35254234, 1.1924239 ],\n",
       "        [0.        , 0.22507161, 0.05374591, 0.29361483, 0.21514177,\n",
       "         0.        , 0.7605541 , 1.0909193 ]],\n",
       "\n",
       "       [[0.37834102, 0.42194754, 1.187997  , 0.71043456, 0.20972383,\n",
       "         0.06751198, 0.944479  , 0.6625349 ],\n",
       "        [0.        , 2.0657628 , 1.2565451 , 2.4596553 , 1.5820463 ,\n",
       "         1.9463761 , 0.6736642 , 0.        ],\n",
       "        [0.47004315, 1.0406895 , 0.36850008, 2.2334774 , 1.7536409 ,\n",
       "         0.7967566 , 0.        , 1.5392673 ],\n",
       "        [0.62734044, 0.20709443, 0.        , 0.05535614, 0.1576246 ,\n",
       "         0.        , 0.7050764 , 0.6153299 ]],\n",
       "\n",
       "       [[1.1097578 , 0.8261906 , 0.        , 0.63214767, 0.04078573,\n",
       "         0.5647539 , 0.4104414 , 0.1511455 ],\n",
       "        [1.9420166 , 0.22349411, 0.33322233, 1.5374502 , 2.240272  ,\n",
       "         2.19391   , 0.        , 0.67183536],\n",
       "        [0.610686  , 0.7930062 , 0.        , 0.82522064, 0.98344654,\n",
       "         0.24587354, 0.        , 0.7223088 ],\n",
       "        [0.48708087, 0.04847544, 0.3274536 , 0.05319285, 0.11173972,\n",
       "         0.05893086, 0.82865393, 0.26766774]]], dtype=float32)"
      ]
     },
     "execution_count": 6,
     "metadata": {},
     "output_type": "execute_result"
    }
   ],
   "source": [
    "encoded_imgs_test[0]"
   ]
  },
  {
   "cell_type": "code",
   "execution_count": 7,
   "metadata": {},
   "outputs": [
    {
     "name": "stdout",
     "output_type": "stream",
     "text": [
      "(10000, 128)\n",
      "(60000, 128)\n"
     ]
    }
   ],
   "source": [
    "encoded_imgs_test = encoded_imgs_test.reshape(10000,128)\n",
    "encoded_imgs_train = encoded_imgs_train.reshape(60000,128)\n",
    "print(encoded_imgs_test.shape)\n",
    "print(encoded_imgs_train.shape)"
   ]
  },
  {
   "cell_type": "code",
   "execution_count": 8,
   "metadata": {},
   "outputs": [],
   "source": [
    "np.save('bottom_test.npy',encoded_imgs_test)\n",
    "np.save('bottom_train.npy',encoded_imgs_train)"
   ]
  },
  {
   "cell_type": "code",
   "execution_count": null,
   "metadata": {},
   "outputs": [],
   "source": []
  }
 ],
 "metadata": {
  "kernelspec": {
   "display_name": "Python 3",
   "language": "python",
   "name": "python3"
  },
  "language_info": {
   "codemirror_mode": {
    "name": "ipython",
    "version": 3
   },
   "file_extension": ".py",
   "mimetype": "text/x-python",
   "name": "python",
   "nbconvert_exporter": "python",
   "pygments_lexer": "ipython3",
   "version": "3.6.6"
  }
 },
 "nbformat": 4,
 "nbformat_minor": 2
}
