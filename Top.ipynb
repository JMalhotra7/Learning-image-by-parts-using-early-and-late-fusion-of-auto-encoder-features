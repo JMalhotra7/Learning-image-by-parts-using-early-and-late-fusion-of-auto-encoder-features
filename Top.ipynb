{
 "cells": [
  {
   "cell_type": "code",
   "execution_count": 1,
   "metadata": {},
   "outputs": [
    {
     "name": "stderr",
     "output_type": "stream",
     "text": [
      "Using TensorFlow backend.\n"
     ]
    }
   ],
   "source": [
    "### Libraries\n",
    "from __future__ import print_function\n",
    "import keras\n",
    "from keras.datasets import mnist\n",
    "from keras.models import Sequential\n",
    "from keras.layers import Dense, Dropout, Flatten\n",
    "from keras.callbacks import ModelCheckpoint\n",
    "from keras.models import model_from_json\n",
    "from keras.layers import Input, Dense, Conv2D, MaxPooling2D, UpSampling2D, Flatten, Reshape\n",
    "from keras.models import Model\n",
    "from keras import backend as K\n",
    "import numpy as np"
   ]
  },
  {
   "cell_type": "code",
   "execution_count": 2,
   "metadata": {},
   "outputs": [
    {
     "name": "stdout",
     "output_type": "stream",
     "text": [
      "Training data shape:  (60000, 28, 28)\n",
      "Testing data shape :  (10000, 28, 28)\n"
     ]
    }
   ],
   "source": [
    "### Loading Data\n",
    "(x_train, y_train), (x_test, y_test) = mnist.load_data()\n",
    "\n",
    "x_train = np.load(r'top_x_train.npy')\n",
    "x_test = np.load(r'top_x_test.npy')\n",
    "\n",
    "x_train = x_train.astype('float32') / 255.\n",
    "x_test = x_test.astype('float32') / 255.\n",
    "\n",
    "print('Training data shape: ', x_train.shape)\n",
    "print('Testing data shape : ', x_test.shape)"
   ]
  },
  {
   "cell_type": "code",
   "execution_count": 3,
   "metadata": {},
   "outputs": [
    {
     "name": "stdout",
     "output_type": "stream",
     "text": [
      "WARNING:tensorflow:From c:\\users\\jatin\\appdata\\local\\programs\\python\\python36\\lib\\site-packages\\tensorflow\\python\\framework\\op_def_library.py:263: colocate_with (from tensorflow.python.framework.ops) is deprecated and will be removed in a future version.\n",
      "Instructions for updating:\n",
      "Colocations handled automatically by placer.\n"
     ]
    }
   ],
   "source": [
    "input_img = Input(shape=(28, 28, 1))  # adapt this if using `channels_first` image data format\n",
    "\n",
    "x = Conv2D(16, (3, 3), activation='relu', padding='same')(input_img)\n",
    "x = MaxPooling2D((2, 2), padding='same')(x)\n",
    "x = Conv2D(8, (3, 3), activation='relu', padding='same')(x)\n",
    "x = MaxPooling2D((2, 2), padding='same')(x)\n",
    "x = Conv2D(8, (3, 3), activation='relu', padding='same')(x)\n",
    "encoded = MaxPooling2D((2, 2), padding='same')(x)\n",
    "\n",
    "# at this point the representation is (4, 4, 8) i.e. 128-dimensional\n",
    "\n",
    "x = Conv2D(8, (3, 3), activation='relu', padding='same')(encoded)\n",
    "x = UpSampling2D((2, 2))(x)\n",
    "x = Conv2D(8, (3, 3), activation='relu', padding='same')(x)\n",
    "x = UpSampling2D((2, 2))(x)\n",
    "x = Conv2D(16, (3, 3), activation='relu')(x)\n",
    "x = UpSampling2D((2, 2))(x)\n",
    "decoded = Conv2D(1, (3, 3), activation='sigmoid', padding='same')(x)\n",
    "\n",
    "autoencoder = Model(input_img, decoded)\n",
    "autoencoder.compile(optimizer='adadelta', loss='binary_crossentropy')"
   ]
  },
  {
   "cell_type": "code",
   "execution_count": 4,
   "metadata": {},
   "outputs": [
    {
     "name": "stdout",
     "output_type": "stream",
     "text": [
      "WARNING:tensorflow:From c:\\users\\jatin\\appdata\\local\\programs\\python\\python36\\lib\\site-packages\\tensorflow\\python\\ops\\math_ops.py:3066: to_int32 (from tensorflow.python.ops.math_ops) is deprecated and will be removed in a future version.\n",
      "Instructions for updating:\n",
      "Use tf.cast instead.\n",
      "Train on 60000 samples, validate on 10000 samples\n",
      "Epoch 1/50\n",
      "60000/60000 [==============================] - 21s 358us/step - loss: 0.1190 - val_loss: 0.0825\n",
      "Epoch 2/50\n",
      "60000/60000 [==============================] - 17s 288us/step - loss: 0.0710 - val_loss: 0.0671\n",
      "Epoch 3/50\n",
      "60000/60000 [==============================] - 17s 289us/step - loss: 0.0619 - val_loss: 0.0593\n",
      "Epoch 4/50\n",
      "60000/60000 [==============================] - 17s 289us/step - loss: 0.0575 - val_loss: 0.0584\n",
      "Epoch 5/50\n",
      "60000/60000 [==============================] - 17s 288us/step - loss: 0.0551 - val_loss: 0.0546\n",
      "Epoch 6/50\n",
      "60000/60000 [==============================] - 17s 289us/step - loss: 0.0534 - val_loss: 0.0518\n",
      "Epoch 7/50\n",
      "60000/60000 [==============================] - 17s 287us/step - loss: 0.0521 - val_loss: 0.0496\n",
      "Epoch 8/50\n",
      "60000/60000 [==============================] - 17s 287us/step - loss: 0.0510 - val_loss: 0.0501\n",
      "Epoch 9/50\n",
      "60000/60000 [==============================] - 17s 287us/step - loss: 0.0498 - val_loss: 0.0491\n",
      "Epoch 10/50\n",
      "60000/60000 [==============================] - 17s 287us/step - loss: 0.0490 - val_loss: 0.0500\n",
      "Epoch 11/50\n",
      "60000/60000 [==============================] - 17s 288us/step - loss: 0.0485 - val_loss: 0.0471\n",
      "Epoch 12/50\n",
      "60000/60000 [==============================] - 17s 291us/step - loss: 0.0479 - val_loss: 0.0474\n",
      "Epoch 13/50\n",
      "60000/60000 [==============================] - 18s 298us/step - loss: 0.0475 - val_loss: 0.0473\n",
      "Epoch 14/50\n",
      "60000/60000 [==============================] - 18s 305us/step - loss: 0.0471 - val_loss: 0.0479\n",
      "Epoch 15/50\n",
      "60000/60000 [==============================] - 18s 304us/step - loss: 0.0468 - val_loss: 0.0457\n",
      "Epoch 16/50\n",
      "60000/60000 [==============================] - 18s 297us/step - loss: 0.0464 - val_loss: 0.0473\n",
      "Epoch 17/50\n",
      "60000/60000 [==============================] - 19s 310us/step - loss: 0.0462 - val_loss: 0.0460A\n",
      "Epoch 18/50\n",
      "60000/60000 [==============================] - 18s 305us/step - loss: 0.0458 - val_loss: 0.0458\n",
      "Epoch 19/50\n",
      "60000/60000 [==============================] - 18s 296us/step - loss: 0.0457 - val_loss: 0.0461\n",
      "Epoch 20/50\n",
      "60000/60000 [==============================] - 18s 297us/step - loss: 0.0452 - val_loss: 0.0451\n",
      "Epoch 21/50\n",
      "60000/60000 [==============================] - 17s 290us/step - loss: 0.0450 - val_loss: 0.0447\n",
      "Epoch 22/50\n",
      "60000/60000 [==============================] - 18s 300us/step - loss: 0.0449 - val_loss: 0.0457\n",
      "Epoch 23/50\n",
      "60000/60000 [==============================] - 18s 302us/step - loss: 0.0446 - val_loss: 0.0451\n",
      "Epoch 24/50\n",
      "60000/60000 [==============================] - 18s 296us/step - loss: 0.0443 - val_loss: 0.0450\n",
      "Epoch 25/50\n",
      "60000/60000 [==============================] - 18s 294us/step - loss: 0.0442 - val_loss: 0.0445\n",
      "Epoch 26/50\n",
      "60000/60000 [==============================] - 18s 301us/step - loss: 0.0440 - val_loss: 0.0448\n",
      "Epoch 27/50\n",
      "60000/60000 [==============================] - 19s 313us/step - loss: 0.0439 - val_loss: 0.0423\n",
      "Epoch 28/50\n",
      "60000/60000 [==============================] - 18s 305us/step - loss: 0.0437 - val_loss: 0.0453\n",
      "Epoch 29/50\n",
      "60000/60000 [==============================] - 18s 307us/step - loss: 0.0435 - val_loss: 0.0436\n",
      "Epoch 30/50\n",
      "60000/60000 [==============================] - 18s 298us/step - loss: 0.0435 - val_loss: 0.0429\n",
      "Epoch 31/50\n",
      "60000/60000 [==============================] - 19s 310us/step - loss: 0.0433 - val_loss: 0.0442\n",
      "Epoch 32/50\n",
      "60000/60000 [==============================] - 18s 302us/step - loss: 0.0432 - val_loss: 0.0427\n",
      "Epoch 33/50\n",
      "60000/60000 [==============================] - 18s 304us/step - loss: 0.0430 - val_loss: 0.0426\n",
      "Epoch 34/50\n",
      "60000/60000 [==============================] - 18s 300us/step - loss: 0.0429 - val_loss: 0.0423\n",
      "Epoch 35/50\n",
      "60000/60000 [==============================] - 18s 305us/step - loss: 0.0428 - val_loss: 0.0425\n",
      "Epoch 36/50\n",
      "60000/60000 [==============================] - 19s 311us/step - loss: 0.0426 - val_loss: 0.0422\n",
      "Epoch 37/50\n",
      "60000/60000 [==============================] - 18s 307us/step - loss: 0.0426 - val_loss: 0.0423\n",
      "Epoch 38/50\n",
      "60000/60000 [==============================] - 18s 295us/step - loss: 0.0425 - val_loss: 0.0430\n",
      "Epoch 39/50\n",
      "60000/60000 [==============================] - 17s 286us/step - loss: 0.0424 - val_loss: 0.0418\n",
      "Epoch 40/50\n",
      "60000/60000 [==============================] - 17s 286us/step - loss: 0.0424 - val_loss: 0.0416\n",
      "Epoch 41/50\n",
      "60000/60000 [==============================] - 17s 286us/step - loss: 0.0423 - val_loss: 0.0442\n",
      "Epoch 42/50\n",
      "60000/60000 [==============================] - 18s 307us/step - loss: 0.0421 - val_loss: 0.0411\n",
      "Epoch 43/50\n",
      "60000/60000 [==============================] - 18s 302us/step - loss: 0.0422 - val_loss: 0.0414\n",
      "Epoch 44/50\n",
      "60000/60000 [==============================] - 18s 296us/step - loss: 0.0420 - val_loss: 0.0421\n",
      "Epoch 45/50\n",
      "60000/60000 [==============================] - 18s 294us/step - loss: 0.0420 - val_loss: 0.0415\n",
      "Epoch 46/50\n",
      "60000/60000 [==============================] - 19s 310us/step - loss: 0.0420 - val_loss: 0.0412\n",
      "Epoch 47/50\n",
      "60000/60000 [==============================] - 18s 295us/step - loss: 0.0419 - val_loss: 0.0411\n",
      "Epoch 48/50\n",
      "60000/60000 [==============================] - 18s 297us/step - loss: 0.0418 - val_loss: 0.0412\n",
      "Epoch 49/50\n",
      "60000/60000 [==============================] - 18s 299us/step - loss: 0.0418 - val_loss: 0.0424\n",
      "Epoch 50/50\n",
      "60000/60000 [==============================] - 18s 298us/step - loss: 0.0416 - val_loss: 0.0415\n"
     ]
    },
    {
     "data": {
      "text/plain": [
       "<keras.callbacks.History at 0x20dd63029e8>"
      ]
     },
     "execution_count": 4,
     "metadata": {},
     "output_type": "execute_result"
    }
   ],
   "source": [
    "### Training AE\n",
    "from keras.callbacks import TensorBoard\n",
    "x_train = x_train.reshape(60000,28,28,1)\n",
    "x_test = x_test.reshape(10000,28,28,1)\n",
    "autoencoder.fit(x_train, x_train,\n",
    "                epochs=50,\n",
    "                batch_size=128,\n",
    "                shuffle=True,\n",
    "                validation_data=(x_test, x_test),\n",
    "                callbacks=[TensorBoard(log_dir='/tmp/autoencoder')])"
   ]
  },
  {
   "cell_type": "code",
   "execution_count": 5,
   "metadata": {},
   "outputs": [
    {
     "name": "stdout",
     "output_type": "stream",
     "text": [
      "(10000, 4, 4, 8)\n",
      "(60000, 4, 4, 8)\n"
     ]
    }
   ],
   "source": [
    "### Get Encoded features fron AE\n",
    "encoder = Model(input_img, encoded)\n",
    "encoded_imgs_test = encoder.predict(x_test)\n",
    "encoded_imgs_train = encoder.predict(x_train)\n",
    "print(encoded_imgs_test.shape)\n",
    "print(encoded_imgs_train.shape)"
   ]
  },
  {
   "cell_type": "code",
   "execution_count": 6,
   "metadata": {},
   "outputs": [
    {
     "data": {
      "text/plain": [
       "array([[[0.        , 1.3391603 , 0.80556214, 0.8883792 , 0.60879606,\n",
       "         0.5196148 , 0.        , 0.87559634],\n",
       "        [0.        , 1.7058834 , 1.0517826 , 0.5239372 , 0.5595443 ,\n",
       "         1.4315857 , 0.        , 0.9732729 ],\n",
       "        [0.        , 1.6621583 , 1.0421363 , 0.6661724 , 0.4315329 ,\n",
       "         1.1293356 , 0.        , 1.097544  ],\n",
       "        [0.        , 1.1996729 , 0.12000733, 0.24325125, 0.34706298,\n",
       "         0.6686797 , 0.        , 0.5562722 ]],\n",
       "\n",
       "       [[1.1357247 , 0.        , 2.0212932 , 0.        , 1.4265132 ,\n",
       "         0.77783877, 0.        , 1.0125406 ],\n",
       "        [2.069103  , 0.        , 2.6168342 , 0.        , 1.3749031 ,\n",
       "         2.9035566 , 0.        , 1.0050794 ],\n",
       "        [2.119367  , 0.        , 2.852218  , 0.        , 0.3595068 ,\n",
       "         3.3854496 , 0.        , 0.89876443],\n",
       "        [0.88434154, 0.15384819, 0.04768812, 0.        , 0.        ,\n",
       "         2.2116067 , 0.4100684 , 0.2546988 ]],\n",
       "\n",
       "       [[0.05639209, 0.1692324 , 0.03239191, 0.2484032 , 0.39363727,\n",
       "         0.08314621, 0.19659302, 0.03719459],\n",
       "        [1.2610193 , 0.06733985, 0.12133056, 0.15933636, 0.9607141 ,\n",
       "         0.2747037 , 0.17119946, 0.56607234],\n",
       "        [1.3380631 , 0.        , 0.847265  , 0.22411397, 1.0590488 ,\n",
       "         0.5952472 , 0.23189315, 0.76049525],\n",
       "        [0.8108393 , 0.07718028, 0.        , 0.65861154, 0.13775979,\n",
       "         0.17759562, 1.2629821 , 0.36619464]],\n",
       "\n",
       "       [[0.        , 0.09810117, 0.00745326, 0.11993736, 0.04227677,\n",
       "         0.06998782, 0.26346222, 0.02123387],\n",
       "        [0.        , 0.        , 0.0076326 , 0.04768878, 0.04123738,\n",
       "         0.06717791, 0.24547121, 0.01033427],\n",
       "        [0.        , 0.        , 0.0076326 , 0.04768878, 0.04123738,\n",
       "         0.09611145, 0.24547121, 0.01033427],\n",
       "        [0.0132973 , 0.10488985, 0.03473834, 0.14989072, 0.12754117,\n",
       "         0.        , 0.2872554 , 0.0461345 ]]], dtype=float32)"
      ]
     },
     "execution_count": 6,
     "metadata": {},
     "output_type": "execute_result"
    }
   ],
   "source": [
    "encoded_imgs_test[0]"
   ]
  },
  {
   "cell_type": "code",
   "execution_count": 7,
   "metadata": {},
   "outputs": [
    {
     "name": "stdout",
     "output_type": "stream",
     "text": [
      "(10000, 128)\n",
      "(60000, 128)\n"
     ]
    }
   ],
   "source": [
    "encoded_imgs_test = encoded_imgs_test.reshape(10000,128)\n",
    "encoded_imgs_train = encoded_imgs_train.reshape(60000,128)\n",
    "print(encoded_imgs_test.shape)\n",
    "print(encoded_imgs_train.shape)"
   ]
  },
  {
   "cell_type": "code",
   "execution_count": 8,
   "metadata": {},
   "outputs": [],
   "source": [
    "np.save('top_test.npy',encoded_imgs_test)\n",
    "np.save('top_train.npy',encoded_imgs_train)"
   ]
  },
  {
   "cell_type": "code",
   "execution_count": null,
   "metadata": {},
   "outputs": [],
   "source": []
  }
 ],
 "metadata": {
  "kernelspec": {
   "display_name": "Python 3",
   "language": "python",
   "name": "python3"
  },
  "language_info": {
   "codemirror_mode": {
    "name": "ipython",
    "version": 3
   },
   "file_extension": ".py",
   "mimetype": "text/x-python",
   "name": "python",
   "nbconvert_exporter": "python",
   "pygments_lexer": "ipython3",
   "version": "3.6.6"
  }
 },
 "nbformat": 4,
 "nbformat_minor": 2
}
